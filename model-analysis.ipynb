{
 "cells": [
  {
   "cell_type": "code",
   "id": "initial_id",
   "metadata": {
    "collapsed": true,
    "jupyter": {
     "is_executing": true
    }
   },
   "source": [
    "import csv\n",
    "import numpy as np\n",
    "import random\n",
    "import matplotlib.pyplot as plt\n",
    "from sklearn.model_selection import train_test_split\n",
    "from model import train_model\n",
    "from model import evaluate_model"
   ],
   "outputs": [],
   "execution_count": null
  },
  {
   "metadata": {},
   "cell_type": "code",
   "outputs": [],
   "execution_count": null,
   "source": [
    "data = []\n",
    "with open('data.csv') as f:\n",
    "    reader = csv.reader(f)\n",
    "    next(reader)\n",
    "    for row in reader:\n",
    "        data.append([int(row[0]), int(row[1]), int(row[2])])\n",
    "\n",
    "data = np.array(data)\n",
    "random.shuffle(data)\n",
    "\n",
    "x = data[:, [0, 2]]  # rank and interval\n",
    "y = data[:, 1]  # num\n",
    "\n",
    "x_train, x_test, y_train, y_test = train_test_split(x, y, test_size=0.05, random_state=42)"
   ],
   "id": "74e80f5a9213dc8"
  },
  {
   "metadata": {},
   "cell_type": "code",
   "outputs": [],
   "execution_count": null,
   "source": "model = train_model(x_train, y_train)",
   "id": "9081e8285382c123"
  },
  {
   "metadata": {},
   "cell_type": "code",
   "outputs": [],
   "execution_count": null,
   "source": [
    "y_pred = model.predict(x_test)\n",
    "mse, r2 = evaluate_model(y_test, y_pred)"
   ],
   "id": "8bdbfd9be01a55b8"
  },
  {
   "metadata": {},
   "cell_type": "code",
   "outputs": [],
   "execution_count": null,
   "source": [
    "plt.figure(figsize=(14, 8))\n",
    "\n",
    "if len(y_test) > 100:\n",
    "    indices = np.random.choice(len(y_test), 100, replace=False)\n",
    "    y_test = y_test[indices]\n",
    "    y_pred = y_pred[indices]\n",
    "\n",
    "plt.scatter(y_test, y_pred, alpha=0.5)\n",
    "plt.xlabel('True Values')\n",
    "plt.ylabel('Predictions')\n",
    "plt.title('Comparison between True Values and Predictions')\n",
    "plt.text(0.05, 0.95, f'MSE: {mse:.2f}\\nR²: {r2:.2f}', transform=plt.gca().transAxes,\n",
    "         fontsize=12, verticalalignment='top', bbox=dict(facecolor='white', alpha=0.5))\n",
    "plt.show()\n"
   ],
   "id": "9a5d8f1e41282429"
  },
  {
   "metadata": {},
   "cell_type": "code",
   "outputs": [],
   "execution_count": null,
   "source": [
    "plt.figure(figsize=(14, 8))\n",
    "plt.plot(y_test, label='Actual', color='blue')\n",
    "plt.plot(y_pred, label='Predicted', color='red', linestyle='dashed')\n",
    "plt.xlabel('Sample Index')\n",
    "plt.ylabel('Prime Number')\n",
    "plt.title('Actual vs Predicted Values')\n",
    "plt.legend()\n",
    "plt.text(0.05, 0.95, f'MSE: {mse:.2f}\\nR²: {r2:.2f}', transform=plt.gca().transAxes,\n",
    "         fontsize=12, verticalalignment='top', bbox=dict(facecolor='white', alpha=0.5))\n",
    "plt.show()\n"
   ],
   "id": "e2b41eeb85d12899"
  },
  {
   "metadata": {},
   "cell_type": "code",
   "outputs": [],
   "execution_count": null,
   "source": [
    "errors = y_test - y_pred\n",
    "plt.figure(figsize=(14, 8))\n",
    "plt.hist(errors, bins=50, alpha=0.75)\n",
    "plt.xlabel('Prediction Error')\n",
    "plt.ylabel('Frequency')\n",
    "plt.title('Histogram of Prediction Errors')\n",
    "plt.text(0.05, 0.95, f'MSE: {mse:.2f}\\nR²: {r2:.2f}', transform=plt.gca().transAxes,\n",
    "         fontsize=12, verticalalignment='top', bbox=dict(facecolor='white', alpha=0.5))\n",
    "plt.show()"
   ],
   "id": "cb905349cd1fff22"
  }
 ],
 "metadata": {
  "kernelspec": {
   "display_name": "Python 3",
   "language": "python",
   "name": "python3"
  },
  "language_info": {
   "codemirror_mode": {
    "name": "ipython",
    "version": 2
   },
   "file_extension": ".py",
   "mimetype": "text/x-python",
   "name": "python",
   "nbconvert_exporter": "python",
   "pygments_lexer": "ipython2",
   "version": "2.7.6"
  }
 },
 "nbformat": 4,
 "nbformat_minor": 5
}
